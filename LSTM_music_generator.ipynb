{
  "cells": [
    {
      "cell_type": "code",
      "execution_count": null,
      "metadata": {
        "id": "OnBrUEIzUNRO"
      },
      "outputs": [],
      "source": [
        "!git clone https://github.com/magrenimish/Lofi_Music_Generation.git"
      ]
    },
    {
      "cell_type": "code",
      "execution_count": null,
      "metadata": {
        "id": "tyHUgvMKUskd"
      },
      "outputs": [],
      "source": [
        "pwd"
      ]
    },
    {
      "cell_type": "code",
      "source": [
        "!nvidia-smi"
      ],
      "metadata": {
        "id": "-1KYWwTl8UIr"
      },
      "execution_count": null,
      "outputs": []
    },
    {
      "cell_type": "code",
      "execution_count": null,
      "metadata": {
        "id": "sSW7Ds12Qlbp"
      },
      "outputs": [],
      "source": [
        "!unzip /content/guitar_midi.zip -d /content/Lofi_Music_Generation"
      ]
    },
    {
      "cell_type": "code",
      "execution_count": null,
      "metadata": {
        "id": "cfBwsZGLVamd"
      },
      "outputs": [],
      "source": [
        "!pip install music21"
      ]
    },
    {
      "cell_type": "code",
      "execution_count": null,
      "metadata": {
        "id": "nRGLoZNFVhGN"
      },
      "outputs": [],
      "source": [
        "!pip install h5py"
      ]
    },
    {
      "cell_type": "code",
      "execution_count": null,
      "metadata": {
        "id": "0oWtNbs3VlHb"
      },
      "outputs": [],
      "source": [
        "!pip install keras"
      ]
    },
    {
      "cell_type": "code",
      "execution_count": null,
      "metadata": {
        "id": "mKcDTrzQVqIv"
      },
      "outputs": [],
      "source": [
        "!pip install tensorflow"
      ]
    },
    {
      "cell_type": "code",
      "execution_count": null,
      "metadata": {
        "id": "VBLIgsUWUvVD"
      },
      "outputs": [],
      "source": [
        "!python predict.py"
      ]
    },
    {
      "cell_type": "code",
      "execution_count": null,
      "metadata": {
        "id": "TdgOCu8nUb9I"
      },
      "outputs": [],
      "source": [
        "pwd"
      ]
    },
    {
      "cell_type": "code",
      "execution_count": null,
      "metadata": {
        "id": "sLv2vtJZUUvR"
      },
      "outputs": [],
      "source": [
        "from music21 import *\n",
        "import glob\n",
        "from music21 import converter, instrument, note, chord\n",
        "notes = []\n",
        "for file in glob.glob(\"midi_songs/*.mid\"):\n",
        "        midi = converter.parse(file)\n",
        "\n",
        "        print(\"Parsing %s\" % file)\n",
        "\n",
        "        notes_to_parse = None\n",
        "\n",
        "        try: # file has instrument parts\n",
        "            s2 = instrument.partitionByInstrument(midi)\n",
        "            notes_to_parse = s2.parts[0].recurse() \n",
        "        except: # file has notes in a flat structure\n",
        "            notes_to_parse = midi.flat.notes\n",
        "        \n",
        "\n",
        "        for element in notes_to_parse:\n",
        "            print(element)\n",
        "            if isinstance(element, note.Note):\n",
        "                notes.append(str(element.pitch))\n",
        "            elif isinstance(element, chord.Chord):\n",
        "                notes.append('.'.join(str(n) for n in element.normalOrder))\n",
        "    "
      ]
    },
    {
      "cell_type": "code",
      "source": [
        "from music21 import *\n",
        "import glob\n",
        "file='/content/Lofi_Music_Generation/midi_songs/8.mid'\n",
        "midi = converter.parse(file)\n",
        "\n",
        "print(\"Parsing %s\" % file)\n",
        "notes_to_parse = None\n",
        "\n",
        "try: # file has instrument parts\n",
        "  s2 = instrument.partitionByInstrument(midi)\n",
        "  notes_to_parse = s2.parts[0].recurse() \n",
        "except: # file has notes in a flat structure\n",
        "  notes_to_parse = midi.flat.notes\n",
        "\n",
        "for element in notes_to_parse:\n",
        "  print(element,element.offset)\n"
      ],
      "metadata": {
        "id": "qaXsFLltA3ga"
      },
      "execution_count": null,
      "outputs": []
    },
    {
      "cell_type": "code",
      "execution_count": null,
      "metadata": {
        "id": "VtNR76InVBi2"
      },
      "outputs": [],
      "source": [
        "from music21 import *\n",
        "s = converter.parse('test_output (8).mid')\n",
        "\n",
        "for el in s.recurse():\n",
        "     if 'Instrument' in el.classes: # or 'Piano'\n",
        "         el.activeSite.replace(el, instrument.Sitar())\n",
        "\n",
        "#s.write('midi', '/content/guitar.mid')"
      ]
    },
    {
      "cell_type": "code",
      "execution_count": null,
      "metadata": {
        "colab": {
          "background_save": true
        },
        "id": "Q7hgLfRNWATe"
      },
      "outputs": [],
      "source": [
        "!apt install fluidsynth\n",
        "!cp /usr/share/sounds/sf2/FluidR3_GM.sf2 ./font.sf2\n",
        "!fluidsynth -ni font.sf2 new.mid -F output.wav -r 44100\n",
        "from IPython.display import Audio\n",
        "Audio('output.wav')"
      ]
    },
    {
      "cell_type": "code",
      "execution_count": null,
      "metadata": {
        "id": "pZ8W2_rtVTir"
      },
      "outputs": [],
      "source": [
        "!python lstm.py"
      ]
    },
    {
      "cell_type": "code",
      "execution_count": null,
      "metadata": {
        "id": "JFNhM53QXfLl"
      },
      "outputs": [],
      "source": []
    }
  ],
  "metadata": {
    "accelerator": "GPU",
    "colab": {
      "name": "LSTM_music_generator.ipynb",
      "provenance": []
    },
    "gpuClass": "standard",
    "kernelspec": {
      "display_name": "Python 3",
      "name": "python3"
    },
    "language_info": {
      "name": "python"
    }
  },
  "nbformat": 4,
  "nbformat_minor": 0
}